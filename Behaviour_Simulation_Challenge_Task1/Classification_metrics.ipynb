{
  "nbformat": 4,
  "nbformat_minor": 0,
  "metadata": {
    "colab": {
      "provenance": [],
      "gpuType": "V28"
    },
    "kernelspec": {
      "name": "python3",
      "display_name": "Python 3"
    },
    "language_info": {
      "name": "python"
    },
    "accelerator": "TPU"
  },
  "cells": [
    {
      "cell_type": "code",
      "execution_count": null,
      "metadata": {
        "colab": {
          "base_uri": "https://localhost:8080/"
        },
        "id": "YuxcZciBzKag",
        "outputId": "680b21cb-b391-4bae-cbf0-1f1c6c2506be"
      },
      "outputs": [
        {
          "output_type": "stream",
          "name": "stdout",
          "text": [
            "Mounted at /content/drive\n"
          ]
        }
      ],
      "source": [
        "from google.colab import drive\n",
        "drive.mount('/content/drive')"
      ]
    },
    {
      "cell_type": "code",
      "source": [
        "import pandas as pd\n",
        "import numpy as np\n",
        "import matplotlib.pyplot as plt"
      ],
      "metadata": {
        "id": "Kc8Jj3yQzozY"
      },
      "execution_count": null,
      "outputs": []
    },
    {
      "cell_type": "code",
      "source": [
        "x = pd.read_csv(\"/content/drive/MyDrive/nlp_data.csv\")"
      ],
      "metadata": {
        "id": "F6uU5aNbzym9"
      },
      "execution_count": null,
      "outputs": []
    },
    {
      "cell_type": "code",
      "source": [
        "x.head()"
      ],
      "metadata": {
        "colab": {
          "base_uri": "https://localhost:8080/",
          "height": 273
        },
        "id": "NiEt2CuFz73H",
        "outputId": "e0b1bebd-4012-4ca6-83d6-73144be82b91"
      },
      "execution_count": null,
      "outputs": [
        {
          "output_type": "execute_result",
          "data": {
            "text/plain": [
              "   Unnamed: 0         0         1         2         3         4         5  \\\n",
              "0           0 -2.134079 -0.821718 -1.506383  1.048583  3.920401 -0.584234   \n",
              "1           1 -0.914101 -0.871207  3.916614  1.688921  1.822252 -1.323222   \n",
              "2           2 -0.780868  1.302017  0.528243  2.400689  2.740922 -0.119786   \n",
              "3           3 -2.235881  1.264590 -2.077184  0.939273  2.927240  0.814982   \n",
              "4           4 -1.222427 -0.241798  0.102243  0.167193  3.135214 -0.464686   \n",
              "\n",
              "          6         7         8  ...     290.3     291.3     292.3     293.3  \\\n",
              "0  0.475946  2.259927 -1.201420  ... -0.747450  1.327223 -5.994067  2.160017   \n",
              "1  3.647720  0.568394 -5.944631  ...  0.248433  2.347017 -6.355200  0.032167   \n",
              "2  2.438258  0.632809 -4.650505  ...  1.341145  3.170006 -7.006167  1.596183   \n",
              "3  0.313947  0.901103 -1.779206  ...  0.794533  2.428450 -5.917624  0.736217   \n",
              "4  1.315902  1.592722 -1.441536  ... -0.058805  2.518033 -6.305040  1.173100   \n",
              "\n",
              "      294.3     295.3     296.3     297.3     298.3     299.3  \n",
              "0  2.270767  0.106248  4.281367 -2.089467  2.741933 -1.516737  \n",
              "1  1.558867  1.801963  2.517733 -1.697350  0.011550 -1.442650  \n",
              "2  1.197000  1.384523  2.344600 -2.525283  1.937123 -1.105753  \n",
              "3  0.872700  1.275228  2.453583 -1.737200  0.785048 -0.661407  \n",
              "4  1.509917  1.314182  4.630967 -1.161525  2.297460 -1.221800  \n",
              "\n",
              "[5 rows x 1201 columns]"
            ],
            "text/html": [
              "\n",
              "  <div id=\"df-672debe5-512e-4f6d-b02c-11a8ace4af80\" class=\"colab-df-container\">\n",
              "    <div>\n",
              "<style scoped>\n",
              "    .dataframe tbody tr th:only-of-type {\n",
              "        vertical-align: middle;\n",
              "    }\n",
              "\n",
              "    .dataframe tbody tr th {\n",
              "        vertical-align: top;\n",
              "    }\n",
              "\n",
              "    .dataframe thead th {\n",
              "        text-align: right;\n",
              "    }\n",
              "</style>\n",
              "<table border=\"1\" class=\"dataframe\">\n",
              "  <thead>\n",
              "    <tr style=\"text-align: right;\">\n",
              "      <th></th>\n",
              "      <th>Unnamed: 0</th>\n",
              "      <th>0</th>\n",
              "      <th>1</th>\n",
              "      <th>2</th>\n",
              "      <th>3</th>\n",
              "      <th>4</th>\n",
              "      <th>5</th>\n",
              "      <th>6</th>\n",
              "      <th>7</th>\n",
              "      <th>8</th>\n",
              "      <th>...</th>\n",
              "      <th>290.3</th>\n",
              "      <th>291.3</th>\n",
              "      <th>292.3</th>\n",
              "      <th>293.3</th>\n",
              "      <th>294.3</th>\n",
              "      <th>295.3</th>\n",
              "      <th>296.3</th>\n",
              "      <th>297.3</th>\n",
              "      <th>298.3</th>\n",
              "      <th>299.3</th>\n",
              "    </tr>\n",
              "  </thead>\n",
              "  <tbody>\n",
              "    <tr>\n",
              "      <th>0</th>\n",
              "      <td>0</td>\n",
              "      <td>-2.134079</td>\n",
              "      <td>-0.821718</td>\n",
              "      <td>-1.506383</td>\n",
              "      <td>1.048583</td>\n",
              "      <td>3.920401</td>\n",
              "      <td>-0.584234</td>\n",
              "      <td>0.475946</td>\n",
              "      <td>2.259927</td>\n",
              "      <td>-1.201420</td>\n",
              "      <td>...</td>\n",
              "      <td>-0.747450</td>\n",
              "      <td>1.327223</td>\n",
              "      <td>-5.994067</td>\n",
              "      <td>2.160017</td>\n",
              "      <td>2.270767</td>\n",
              "      <td>0.106248</td>\n",
              "      <td>4.281367</td>\n",
              "      <td>-2.089467</td>\n",
              "      <td>2.741933</td>\n",
              "      <td>-1.516737</td>\n",
              "    </tr>\n",
              "    <tr>\n",
              "      <th>1</th>\n",
              "      <td>1</td>\n",
              "      <td>-0.914101</td>\n",
              "      <td>-0.871207</td>\n",
              "      <td>3.916614</td>\n",
              "      <td>1.688921</td>\n",
              "      <td>1.822252</td>\n",
              "      <td>-1.323222</td>\n",
              "      <td>3.647720</td>\n",
              "      <td>0.568394</td>\n",
              "      <td>-5.944631</td>\n",
              "      <td>...</td>\n",
              "      <td>0.248433</td>\n",
              "      <td>2.347017</td>\n",
              "      <td>-6.355200</td>\n",
              "      <td>0.032167</td>\n",
              "      <td>1.558867</td>\n",
              "      <td>1.801963</td>\n",
              "      <td>2.517733</td>\n",
              "      <td>-1.697350</td>\n",
              "      <td>0.011550</td>\n",
              "      <td>-1.442650</td>\n",
              "    </tr>\n",
              "    <tr>\n",
              "      <th>2</th>\n",
              "      <td>2</td>\n",
              "      <td>-0.780868</td>\n",
              "      <td>1.302017</td>\n",
              "      <td>0.528243</td>\n",
              "      <td>2.400689</td>\n",
              "      <td>2.740922</td>\n",
              "      <td>-0.119786</td>\n",
              "      <td>2.438258</td>\n",
              "      <td>0.632809</td>\n",
              "      <td>-4.650505</td>\n",
              "      <td>...</td>\n",
              "      <td>1.341145</td>\n",
              "      <td>3.170006</td>\n",
              "      <td>-7.006167</td>\n",
              "      <td>1.596183</td>\n",
              "      <td>1.197000</td>\n",
              "      <td>1.384523</td>\n",
              "      <td>2.344600</td>\n",
              "      <td>-2.525283</td>\n",
              "      <td>1.937123</td>\n",
              "      <td>-1.105753</td>\n",
              "    </tr>\n",
              "    <tr>\n",
              "      <th>3</th>\n",
              "      <td>3</td>\n",
              "      <td>-2.235881</td>\n",
              "      <td>1.264590</td>\n",
              "      <td>-2.077184</td>\n",
              "      <td>0.939273</td>\n",
              "      <td>2.927240</td>\n",
              "      <td>0.814982</td>\n",
              "      <td>0.313947</td>\n",
              "      <td>0.901103</td>\n",
              "      <td>-1.779206</td>\n",
              "      <td>...</td>\n",
              "      <td>0.794533</td>\n",
              "      <td>2.428450</td>\n",
              "      <td>-5.917624</td>\n",
              "      <td>0.736217</td>\n",
              "      <td>0.872700</td>\n",
              "      <td>1.275228</td>\n",
              "      <td>2.453583</td>\n",
              "      <td>-1.737200</td>\n",
              "      <td>0.785048</td>\n",
              "      <td>-0.661407</td>\n",
              "    </tr>\n",
              "    <tr>\n",
              "      <th>4</th>\n",
              "      <td>4</td>\n",
              "      <td>-1.222427</td>\n",
              "      <td>-0.241798</td>\n",
              "      <td>0.102243</td>\n",
              "      <td>0.167193</td>\n",
              "      <td>3.135214</td>\n",
              "      <td>-0.464686</td>\n",
              "      <td>1.315902</td>\n",
              "      <td>1.592722</td>\n",
              "      <td>-1.441536</td>\n",
              "      <td>...</td>\n",
              "      <td>-0.058805</td>\n",
              "      <td>2.518033</td>\n",
              "      <td>-6.305040</td>\n",
              "      <td>1.173100</td>\n",
              "      <td>1.509917</td>\n",
              "      <td>1.314182</td>\n",
              "      <td>4.630967</td>\n",
              "      <td>-1.161525</td>\n",
              "      <td>2.297460</td>\n",
              "      <td>-1.221800</td>\n",
              "    </tr>\n",
              "  </tbody>\n",
              "</table>\n",
              "<p>5 rows × 1201 columns</p>\n",
              "</div>\n",
              "    <div class=\"colab-df-buttons\">\n",
              "\n",
              "  <div class=\"colab-df-container\">\n",
              "    <button class=\"colab-df-convert\" onclick=\"convertToInteractive('df-672debe5-512e-4f6d-b02c-11a8ace4af80')\"\n",
              "            title=\"Convert this dataframe to an interactive table.\"\n",
              "            style=\"display:none;\">\n",
              "\n",
              "  <svg xmlns=\"http://www.w3.org/2000/svg\" height=\"24px\" viewBox=\"0 -960 960 960\">\n",
              "    <path d=\"M120-120v-720h720v720H120Zm60-500h600v-160H180v160Zm220 220h160v-160H400v160Zm0 220h160v-160H400v160ZM180-400h160v-160H180v160Zm440 0h160v-160H620v160ZM180-180h160v-160H180v160Zm440 0h160v-160H620v160Z\"/>\n",
              "  </svg>\n",
              "    </button>\n",
              "\n",
              "  <style>\n",
              "    .colab-df-container {\n",
              "      display:flex;\n",
              "      gap: 12px;\n",
              "    }\n",
              "\n",
              "    .colab-df-convert {\n",
              "      background-color: #E8F0FE;\n",
              "      border: none;\n",
              "      border-radius: 50%;\n",
              "      cursor: pointer;\n",
              "      display: none;\n",
              "      fill: #1967D2;\n",
              "      height: 32px;\n",
              "      padding: 0 0 0 0;\n",
              "      width: 32px;\n",
              "    }\n",
              "\n",
              "    .colab-df-convert:hover {\n",
              "      background-color: #E2EBFA;\n",
              "      box-shadow: 0px 1px 2px rgba(60, 64, 67, 0.3), 0px 1px 3px 1px rgba(60, 64, 67, 0.15);\n",
              "      fill: #174EA6;\n",
              "    }\n",
              "\n",
              "    .colab-df-buttons div {\n",
              "      margin-bottom: 4px;\n",
              "    }\n",
              "\n",
              "    [theme=dark] .colab-df-convert {\n",
              "      background-color: #3B4455;\n",
              "      fill: #D2E3FC;\n",
              "    }\n",
              "\n",
              "    [theme=dark] .colab-df-convert:hover {\n",
              "      background-color: #434B5C;\n",
              "      box-shadow: 0px 1px 3px 1px rgba(0, 0, 0, 0.15);\n",
              "      filter: drop-shadow(0px 1px 2px rgba(0, 0, 0, 0.3));\n",
              "      fill: #FFFFFF;\n",
              "    }\n",
              "  </style>\n",
              "\n",
              "    <script>\n",
              "      const buttonEl =\n",
              "        document.querySelector('#df-672debe5-512e-4f6d-b02c-11a8ace4af80 button.colab-df-convert');\n",
              "      buttonEl.style.display =\n",
              "        google.colab.kernel.accessAllowed ? 'block' : 'none';\n",
              "\n",
              "      async function convertToInteractive(key) {\n",
              "        const element = document.querySelector('#df-672debe5-512e-4f6d-b02c-11a8ace4af80');\n",
              "        const dataTable =\n",
              "          await google.colab.kernel.invokeFunction('convertToInteractive',\n",
              "                                                    [key], {});\n",
              "        if (!dataTable) return;\n",
              "\n",
              "        const docLinkHtml = 'Like what you see? Visit the ' +\n",
              "          '<a target=\"_blank\" href=https://colab.research.google.com/notebooks/data_table.ipynb>data table notebook</a>'\n",
              "          + ' to learn more about interactive tables.';\n",
              "        element.innerHTML = '';\n",
              "        dataTable['output_type'] = 'display_data';\n",
              "        await google.colab.output.renderOutput(dataTable, element);\n",
              "        const docLink = document.createElement('div');\n",
              "        docLink.innerHTML = docLinkHtml;\n",
              "        element.appendChild(docLink);\n",
              "      }\n",
              "    </script>\n",
              "  </div>\n",
              "\n",
              "\n",
              "<div id=\"df-c675428a-1ba8-4fa2-89b8-fcfcc6849d78\">\n",
              "  <button class=\"colab-df-quickchart\" onclick=\"quickchart('df-c675428a-1ba8-4fa2-89b8-fcfcc6849d78')\"\n",
              "            title=\"Suggest charts\"\n",
              "            style=\"display:none;\">\n",
              "\n",
              "<svg xmlns=\"http://www.w3.org/2000/svg\" height=\"24px\"viewBox=\"0 0 24 24\"\n",
              "     width=\"24px\">\n",
              "    <g>\n",
              "        <path d=\"M19 3H5c-1.1 0-2 .9-2 2v14c0 1.1.9 2 2 2h14c1.1 0 2-.9 2-2V5c0-1.1-.9-2-2-2zM9 17H7v-7h2v7zm4 0h-2V7h2v10zm4 0h-2v-4h2v4z\"/>\n",
              "    </g>\n",
              "</svg>\n",
              "  </button>\n",
              "\n",
              "<style>\n",
              "  .colab-df-quickchart {\n",
              "      --bg-color: #E8F0FE;\n",
              "      --fill-color: #1967D2;\n",
              "      --hover-bg-color: #E2EBFA;\n",
              "      --hover-fill-color: #174EA6;\n",
              "      --disabled-fill-color: #AAA;\n",
              "      --disabled-bg-color: #DDD;\n",
              "  }\n",
              "\n",
              "  [theme=dark] .colab-df-quickchart {\n",
              "      --bg-color: #3B4455;\n",
              "      --fill-color: #D2E3FC;\n",
              "      --hover-bg-color: #434B5C;\n",
              "      --hover-fill-color: #FFFFFF;\n",
              "      --disabled-bg-color: #3B4455;\n",
              "      --disabled-fill-color: #666;\n",
              "  }\n",
              "\n",
              "  .colab-df-quickchart {\n",
              "    background-color: var(--bg-color);\n",
              "    border: none;\n",
              "    border-radius: 50%;\n",
              "    cursor: pointer;\n",
              "    display: none;\n",
              "    fill: var(--fill-color);\n",
              "    height: 32px;\n",
              "    padding: 0;\n",
              "    width: 32px;\n",
              "  }\n",
              "\n",
              "  .colab-df-quickchart:hover {\n",
              "    background-color: var(--hover-bg-color);\n",
              "    box-shadow: 0 1px 2px rgba(60, 64, 67, 0.3), 0 1px 3px 1px rgba(60, 64, 67, 0.15);\n",
              "    fill: var(--button-hover-fill-color);\n",
              "  }\n",
              "\n",
              "  .colab-df-quickchart-complete:disabled,\n",
              "  .colab-df-quickchart-complete:disabled:hover {\n",
              "    background-color: var(--disabled-bg-color);\n",
              "    fill: var(--disabled-fill-color);\n",
              "    box-shadow: none;\n",
              "  }\n",
              "\n",
              "  .colab-df-spinner {\n",
              "    border: 2px solid var(--fill-color);\n",
              "    border-color: transparent;\n",
              "    border-bottom-color: var(--fill-color);\n",
              "    animation:\n",
              "      spin 1s steps(1) infinite;\n",
              "  }\n",
              "\n",
              "  @keyframes spin {\n",
              "    0% {\n",
              "      border-color: transparent;\n",
              "      border-bottom-color: var(--fill-color);\n",
              "      border-left-color: var(--fill-color);\n",
              "    }\n",
              "    20% {\n",
              "      border-color: transparent;\n",
              "      border-left-color: var(--fill-color);\n",
              "      border-top-color: var(--fill-color);\n",
              "    }\n",
              "    30% {\n",
              "      border-color: transparent;\n",
              "      border-left-color: var(--fill-color);\n",
              "      border-top-color: var(--fill-color);\n",
              "      border-right-color: var(--fill-color);\n",
              "    }\n",
              "    40% {\n",
              "      border-color: transparent;\n",
              "      border-right-color: var(--fill-color);\n",
              "      border-top-color: var(--fill-color);\n",
              "    }\n",
              "    60% {\n",
              "      border-color: transparent;\n",
              "      border-right-color: var(--fill-color);\n",
              "    }\n",
              "    80% {\n",
              "      border-color: transparent;\n",
              "      border-right-color: var(--fill-color);\n",
              "      border-bottom-color: var(--fill-color);\n",
              "    }\n",
              "    90% {\n",
              "      border-color: transparent;\n",
              "      border-bottom-color: var(--fill-color);\n",
              "    }\n",
              "  }\n",
              "</style>\n",
              "\n",
              "  <script>\n",
              "    async function quickchart(key) {\n",
              "      const quickchartButtonEl =\n",
              "        document.querySelector('#' + key + ' button');\n",
              "      quickchartButtonEl.disabled = true;  // To prevent multiple clicks.\n",
              "      quickchartButtonEl.classList.add('colab-df-spinner');\n",
              "      try {\n",
              "        const charts = await google.colab.kernel.invokeFunction(\n",
              "            'suggestCharts', [key], {});\n",
              "      } catch (error) {\n",
              "        console.error('Error during call to suggestCharts:', error);\n",
              "      }\n",
              "      quickchartButtonEl.classList.remove('colab-df-spinner');\n",
              "      quickchartButtonEl.classList.add('colab-df-quickchart-complete');\n",
              "    }\n",
              "    (() => {\n",
              "      let quickchartButtonEl =\n",
              "        document.querySelector('#df-c675428a-1ba8-4fa2-89b8-fcfcc6849d78 button');\n",
              "      quickchartButtonEl.style.display =\n",
              "        google.colab.kernel.accessAllowed ? 'block' : 'none';\n",
              "    })();\n",
              "  </script>\n",
              "</div>\n",
              "\n",
              "    </div>\n",
              "  </div>\n"
            ],
            "application/vnd.google.colaboratory.intrinsic+json": {
              "type": "dataframe",
              "variable_name": "x"
            }
          },
          "metadata": {},
          "execution_count": 4
        }
      ]
    },
    {
      "cell_type": "code",
      "source": [
        "x = x.drop('Unnamed: 0',axis=1)"
      ],
      "metadata": {
        "id": "rBrLda_6z-DG"
      },
      "execution_count": null,
      "outputs": []
    },
    {
      "cell_type": "code",
      "source": [
        "import joblib"
      ],
      "metadata": {
        "id": "IY9Wk7ib0XSP"
      },
      "execution_count": null,
      "outputs": []
    },
    {
      "cell_type": "code",
      "source": [
        "!pip install xgboost\n",
        "from xgboost import XGBClassifier"
      ],
      "metadata": {
        "colab": {
          "base_uri": "https://localhost:8080/"
        },
        "id": "zqkhSCFM0iJv",
        "outputId": "ebb4284b-f827-44b5-94b6-76ba4d91033a"
      },
      "execution_count": null,
      "outputs": [
        {
          "output_type": "stream",
          "name": "stdout",
          "text": [
            "Collecting xgboost\n",
            "  Downloading xgboost-2.1.2-py3-none-manylinux_2_28_x86_64.whl.metadata (2.1 kB)\n",
            "Requirement already satisfied: numpy in /usr/local/lib/python3.10/dist-packages (from xgboost) (1.26.4)\n",
            "Collecting nvidia-nccl-cu12 (from xgboost)\n",
            "  Downloading nvidia_nccl_cu12-2.23.4-py3-none-manylinux2014_x86_64.whl.metadata (1.8 kB)\n",
            "Requirement already satisfied: scipy in /usr/local/lib/python3.10/dist-packages (from xgboost) (1.13.1)\n",
            "Downloading xgboost-2.1.2-py3-none-manylinux_2_28_x86_64.whl (153.9 MB)\n",
            "\u001b[2K   \u001b[90m━━━━━━━━━━━━━━━━━━━━━━━━━━━━━━━━━━━━━━━━\u001b[0m \u001b[32m153.9/153.9 MB\u001b[0m \u001b[31m6.6 MB/s\u001b[0m eta \u001b[36m0:00:00\u001b[0m\n",
            "\u001b[?25hDownloading nvidia_nccl_cu12-2.23.4-py3-none-manylinux2014_x86_64.whl (199.0 MB)\n",
            "\u001b[2K   \u001b[90m━━━━━━━━━━━━━━━━━━━━━━━━━━━━━━━━━━━━━━━━\u001b[0m \u001b[32m199.0/199.0 MB\u001b[0m \u001b[31m5.0 MB/s\u001b[0m eta \u001b[36m0:00:00\u001b[0m\n",
            "\u001b[?25hInstalling collected packages: nvidia-nccl-cu12, xgboost\n",
            "Successfully installed nvidia-nccl-cu12-2.23.4 xgboost-2.1.2\n"
          ]
        }
      ]
    },
    {
      "cell_type": "code",
      "source": [
        "x.shape"
      ],
      "metadata": {
        "colab": {
          "base_uri": "https://localhost:8080/"
        },
        "id": "9jqN9HsK1FwH",
        "outputId": "520c957f-8b3f-4444-f0cd-f1202cca203b"
      },
      "execution_count": null,
      "outputs": [
        {
          "output_type": "execute_result",
          "data": {
            "text/plain": [
              "(300000, 1200)"
            ]
          },
          "metadata": {},
          "execution_count": 8
        }
      ]
    },
    {
      "cell_type": "code",
      "source": [
        "classifier = joblib.load('/content/drive/MyDrive/xgboost_model.joblib')"
      ],
      "metadata": {
        "id": "mJnUEiYb0Zcq"
      },
      "execution_count": null,
      "outputs": []
    },
    {
      "cell_type": "code",
      "source": [
        "dataset = pd.read_csv(\"/content/drive/MyDrive/behaviour_simulation_train.csv\", encoding='latin-1')"
      ],
      "metadata": {
        "id": "kgXwSvoj1r4v"
      },
      "execution_count": null,
      "outputs": []
    },
    {
      "cell_type": "code",
      "source": [
        "y = []\n",
        "for i in dataset['likes']:\n",
        "  if i <= 100:\n",
        "    y.append(0)\n",
        "  elif i <= 1000:\n",
        "    y.append(1)\n",
        "  elif i <= 5000:\n",
        "    y.append(2)\n",
        "  elif i <= 10000:\n",
        "    y.append(3)\n",
        "  elif i <= 100000:\n",
        "    y.append(4)\n",
        "  else:\n",
        "    y.append(5)"
      ],
      "metadata": {
        "id": "c4KfQVxO15OJ"
      },
      "execution_count": null,
      "outputs": []
    },
    {
      "cell_type": "code",
      "source": [
        "y_pred = classifier.predict(x)"
      ],
      "metadata": {
        "id": "khNxR2oe2DG-"
      },
      "execution_count": null,
      "outputs": []
    },
    {
      "cell_type": "code",
      "source": [
        "from sklearn.metrics import accuracy_score, confusion_matrix, classification_report\n",
        "print(accuracy_score(y,y_pred))\n",
        "print(confusion_matrix(y,y_pred))\n",
        "print(classification_report(y,y_pred))"
      ],
      "metadata": {
        "colab": {
          "base_uri": "https://localhost:8080/"
        },
        "id": "12vuz-5Z0xdk",
        "outputId": "e2c92512-3b93-419d-8e4e-ab0c644f0ab7"
      },
      "execution_count": null,
      "outputs": [
        {
          "output_type": "stream",
          "name": "stdout",
          "text": [
            "0.9745166666666667\n",
            "[[160552   3948     63      3      1      0]\n",
            " [  2183  94811   1117     28     21      0]\n",
            " [     9    114  29118     84     54      1]\n",
            " [     0      0      0   4140     14      0]\n",
            " [     0      0      0      4   3637      1]\n",
            " [     0      0      0      0      0     97]]\n",
            "              precision    recall  f1-score   support\n",
            "\n",
            "           0       0.99      0.98      0.98    164567\n",
            "           1       0.96      0.97      0.96     98160\n",
            "           2       0.96      0.99      0.98     29380\n",
            "           3       0.97      1.00      0.98      4154\n",
            "           4       0.98      1.00      0.99      3642\n",
            "           5       0.98      1.00      0.99        97\n",
            "\n",
            "    accuracy                           0.97    300000\n",
            "   macro avg       0.97      0.99      0.98    300000\n",
            "weighted avg       0.97      0.97      0.97    300000\n",
            "\n"
          ]
        }
      ]
    },
    {
      "cell_type": "code",
      "source": [
        "print(y_pred[1], y[1])"
      ],
      "metadata": {
        "colab": {
          "base_uri": "https://localhost:8080/"
        },
        "id": "9XVxaCxBhtn0",
        "outputId": "caa14ee5-f6b2-4b1e-ff1a-485e72eede27"
      },
      "execution_count": null,
      "outputs": [
        {
          "output_type": "stream",
          "name": "stdout",
          "text": [
            "2 2\n"
          ]
        }
      ]
    },
    {
      "cell_type": "code",
      "source": [
        "print(dataset.iloc[1, :].values)"
      ],
      "metadata": {
        "colab": {
          "base_uri": "https://localhost:8080/"
        },
        "id": "8-s_TguNpwHZ",
        "outputId": "74745fbd-7799-49d0-8849-99610e7a3774"
      },
      "execution_count": null,
      "outputs": [
        {
          "output_type": "stream",
          "name": "stdout",
          "text": [
            "[2 '2018-06-30 10:04:20' 2750\n",
            " 'Watch rapper <mention> freestyle for over an HOUR <hyperlink> <hyperlink>'\n",
            " 'IndyMusic'\n",
            " \"[Photo(previewUrl='https://pbs.twimg.com/media/Dg7mW-VX0AE_hMn?format=jpg&name=small', fullUrl='https://pbs.twimg.com/media/Dg7mW-VX0AE_hMn?format=jpg&name=large')]\"\n",
            " 'independent']\n"
          ]
        }
      ]
    },
    {
      "cell_type": "code",
      "source": [
        "import seaborn as sns"
      ],
      "metadata": {
        "id": "JnHDUQGbL64B"
      },
      "execution_count": null,
      "outputs": []
    },
    {
      "cell_type": "code",
      "source": [
        "cm = confusion_matrix(y, y_pred)\n",
        "\n",
        "classes = ['Class 0', 'Class 1', 'Class 2', 'Class 3', 'Class 4', 'Class 5']\n",
        "\n",
        "plt.figure(figsize=(8, 6))\n",
        "sns.heatmap(cm, annot=True, fmt='d', cmap='Reds', xticklabels=classes, yticklabels=classes)\n",
        "plt.xlabel('Predicted Label')\n",
        "plt.ylabel('True Label')\n",
        "plt.title('Confusion Matrix')\n",
        "plt.show()\n",
        "plt.savefig(\"Confusion_matrix.jpg\")"
      ],
      "metadata": {
        "colab": {
          "base_uri": "https://localhost:8080/",
          "height": 581
        },
        "id": "50t1RBMc06TT",
        "outputId": "5250afd0-7699-4ae1-97e6-038827613551"
      },
      "execution_count": null,
      "outputs": [
        {
          "output_type": "display_data",
          "data": {
            "text/plain": [
              "<Figure size 800x600 with 2 Axes>"
            ],
            "image/png": "[encoded data removed]"
          },
          "metadata": {}
        },
        {
          "output_type": "display_data",
          "data": {
            "text/plain": [
              "<Figure size 640x480 with 0 Axes>"
            ]
          },
          "metadata": {}
        }
      ]
    },
    {
      "cell_type": "code",
      "source": [],
      "metadata": {
        "id": "zPbQIBKyL-u7"
      },
      "execution_count": null,
      "outputs": []
    }
  ]
}