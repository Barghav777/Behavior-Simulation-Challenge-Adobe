{
  "nbformat": 4,
  "nbformat_minor": 0,
  "metadata": {
    "colab": {
      "provenance": [],
      "gpuType": "V28"
    },
    "kernelspec": {
      "name": "python3",
      "display_name": "Python 3"
    },
    "language_info": {
      "name": "python"
    },
    "accelerator": "TPU"
  },
  "cells": [
    {
      "cell_type": "code",
      "source": [
        "from google.colab import drive\n",
        "drive.mount('/content/drive')"
      ],
      "metadata": {
        "colab": {
          "base_uri": "https://localhost:8080/"
        },
        "id": "_ATOGwgXaI_W",
        "outputId": "9a280f5a-8c58-4714-f834-08b615920866"
      },
      "execution_count": null,
      "outputs": [
        {
          "output_type": "stream",
          "name": "stdout",
          "text": [
            "Mounted at /content/drive\n"
          ]
        }
      ]
    },
    {
      "cell_type": "code",
      "source": [
        "import numpy as np\n",
        "import pandas as pd\n",
        "import os\n",
        "import torch\n",
        "from transformers import AutoModel, AutoTokenizer\n",
        "import numpy as np\n",
        "import pandas as pd\n",
        "from sklearn.model_selection import train_test_split\n",
        "from sklearn.metrics import mean_squared_error\n",
        "from tensorflow.keras.models import Sequential\n",
        "from tensorflow.keras.layers import Embedding, Conv1D, GlobalMaxPool1D, Dense, Dropout\n",
        "from tensorflow.keras.optimizers import Adam\n",
        "from tensorflow.keras.callbacks import ReduceLROnPlateau, EarlyStopping, ModelCheckpoint\n",
        "import time\n",
        "import time\n",
        "import numpy as np\n",
        "import pandas as pd\n",
        "from sklearn.model_selection import train_test_split"
      ],
      "metadata": {
        "trusted": true,
        "execution": {
          "iopub.status.busy": "2024-11-02T10:02:28.339663Z",
          "iopub.execute_input": "2024-11-02T10:02:28.340588Z",
          "iopub.status.idle": "2024-11-02T10:02:40.327404Z",
          "shell.execute_reply.started": "2024-11-02T10:02:28.340546Z",
          "shell.execute_reply": "2024-11-02T10:02:40.326346Z"
        },
        "id": "YJoihXZCZ96H"
      },
      "outputs": [],
      "execution_count": null
    },
    {
      "cell_type": "code",
      "source": [
        "df = pd.read_csv(\"/content/drive/MyDrive/behaviour_simulation_train.csv\", encoding='latin 1')"
      ],
      "metadata": {
        "trusted": true,
        "execution": {
          "iopub.status.busy": "2024-11-02T10:02:49.901611Z",
          "iopub.execute_input": "2024-11-02T10:02:49.902333Z",
          "iopub.status.idle": "2024-11-02T10:02:53.285056Z",
          "shell.execute_reply.started": "2024-11-02T10:02:49.902294Z",
          "shell.execute_reply": "2024-11-02T10:02:53.283973Z"
        },
        "id": "WyoV2fYJZ96I"
      },
      "outputs": [],
      "execution_count": null
    },
    {
      "cell_type": "code",
      "source": [
        "d1 = np.load(\"/content/drive/MyDrive/content-test-company-full.npy\")\n",
        "y1 = df['likes'].values"
      ],
      "metadata": {
        "trusted": true,
        "execution": {
          "iopub.status.busy": "2024-11-02T10:10:29.624468Z",
          "iopub.execute_input": "2024-11-02T10:10:29.625550Z",
          "iopub.status.idle": "2024-11-02T10:10:29.955204Z",
          "shell.execute_reply.started": "2024-11-02T10:10:29.625494Z",
          "shell.execute_reply": "2024-11-02T10:10:29.954116Z"
        },
        "id": "g4E9C5wkZ96J"
      },
      "outputs": [],
      "execution_count": null
    },
    {
      "cell_type": "code",
      "source": [
        "X_train = np.array(d1)\n",
        "y_train = np.array(y1)"
      ],
      "metadata": {
        "id": "6ZKYkoQyC1zW"
      },
      "execution_count": null,
      "outputs": []
    },
    {
      "cell_type": "code",
      "source": [
        "train_data = pd.DataFrame({'embeddings': X_train.tolist(), 'targets': y_train})\n",
        "train_data = train_data[train_data['targets'].astype(str).str.isdigit()]\n",
        "train_data['targets'] = train_data['targets'].astype(int)\n",
        "class_ranges = [(0, 100), (100, 1000), (1000, 5000), (5000, 10000), (10000, 100000), (100000, 1000000)]\n",
        "class_dfs = {}\n",
        "chunk_size = 10000\n",
        "for idx, (lower, upper) in enumerate(class_ranges):\n",
        "    class_name = f'class{idx + 1}'\n",
        "    class_dfs[class_name] = pd.DataFrame()\n",
        "    for start_idx in range(0, len(train_data), chunk_size):\n",
        "        end_idx = start_idx + chunk_size\n",
        "        chunk_df = train_data[(train_data['targets'] >= lower) & (train_data['targets'] <= upper)].iloc[start_idx:end_idx]\n",
        "        class_dfs[class_name] = pd.concat([class_dfs[class_name], chunk_df])\n",
        "class_embeddings = {}\n",
        "class_targets = {}\n",
        "\n",
        "for class_name, class_df in class_dfs.items():\n",
        "    class_embeddings[class_name] = np.array(class_df['embeddings'].to_list())\n",
        "    class_targets[class_name] = class_df['targets'].values"
      ],
      "metadata": {
        "id": "sJbtPQpeCdiw"
      },
      "execution_count": null,
      "outputs": []
    },
    {
      "cell_type": "code",
      "source": [
        "class_name = 'class1'\n",
        "embeddings_class1 = class_embeddings[class_name]\n",
        "targets_class1 = class_targets[class_name]\n",
        "\n",
        "class_name = 'class2'\n",
        "embeddings_class2 = class_embeddings[class_name]\n",
        "targets_class2 = class_targets[class_name]\n",
        "\n",
        "class_name = 'class3'\n",
        "embeddings_class3 = class_embeddings[class_name]\n",
        "targets_class3 = class_targets[class_name]\n",
        "\n",
        "class_name = 'class4'\n",
        "embeddings_class4 = class_embeddings[class_name]\n",
        "targets_class4 = class_targets[class_name]\n",
        "\n",
        "class_name = 'class5'\n",
        "embeddings_class5 = class_embeddings[class_name]\n",
        "targets_class5 = class_targets[class_name]\n",
        "\n",
        "class_name = 'class6'\n",
        "embeddings_class6 = class_embeddings[class_name]\n",
        "targets_class6 = class_targets[class_name]"
      ],
      "metadata": {
        "id": "8GhmnlNyC5Yy"
      },
      "execution_count": null,
      "outputs": []
    },
    {
      "cell_type": "code",
      "source": [
        "import joblib"
      ],
      "metadata": {
        "id": "u0BPKZzb5Vl8"
      },
      "execution_count": null,
      "outputs": []
    },
    {
      "cell_type": "code",
      "source": [
        "!pip install xgboost\n",
        "from xgboost import XGBRegressor"
      ],
      "metadata": {
        "id": "DHBsPNUn5XJz",
        "colab": {
          "base_uri": "https://localhost:8080/"
        },
        "outputId": "4f6a6a45-ef5e-466d-c2f9-cdeae10439dd"
      },
      "execution_count": null,
      "outputs": [
        {
          "output_type": "stream",
          "name": "stdout",
          "text": [
            "Collecting xgboost\n",
            "  Downloading xgboost-2.1.2-py3-none-manylinux_2_28_x86_64.whl.metadata (2.1 kB)\n",
            "Requirement already satisfied: numpy in /usr/local/lib/python3.10/dist-packages (from xgboost) (1.26.4)\n",
            "Collecting nvidia-nccl-cu12 (from xgboost)\n",
            "  Downloading nvidia_nccl_cu12-2.23.4-py3-none-manylinux2014_x86_64.whl.metadata (1.8 kB)\n",
            "Requirement already satisfied: scipy in /usr/local/lib/python3.10/dist-packages (from xgboost) (1.13.1)\n",
            "Downloading xgboost-2.1.2-py3-none-manylinux_2_28_x86_64.whl (153.9 MB)\n",
            "\u001b[2K   \u001b[90m━━━━━━━━━━━━━━━━━━━━━━━━━━━━━━━━━━━━━━━━\u001b[0m \u001b[32m153.9/153.9 MB\u001b[0m \u001b[31m7.0 MB/s\u001b[0m eta \u001b[36m0:00:00\u001b[0m\n",
            "\u001b[?25hDownloading nvidia_nccl_cu12-2.23.4-py3-none-manylinux2014_x86_64.whl (199.0 MB)\n",
            "\u001b[2K   \u001b[90m━━━━━━━━━━━━━━━━━━━━━━━━━━━━━━━━━━━━━━━━\u001b[0m \u001b[32m199.0/199.0 MB\u001b[0m \u001b[31m5.0 MB/s\u001b[0m eta \u001b[36m0:00:00\u001b[0m\n",
            "\u001b[?25hInstalling collected packages: nvidia-nccl-cu12, xgboost\n",
            "Successfully installed nvidia-nccl-cu12-2.23.4 xgboost-2.1.2\n"
          ]
        }
      ]
    },
    {
      "cell_type": "code",
      "source": [
        "model = joblib.load(\"/content/drive/MyDrive/xgb_regressor_model_cat1.joblib\")"
      ],
      "metadata": {
        "id": "8Y2XBGt15pMU"
      },
      "execution_count": null,
      "outputs": []
    },
    {
      "cell_type": "code",
      "source": [
        "from sklearn.metrics import root_mean_squared_error\n",
        "y_pred1 = model.predict(embeddings_class1)\n",
        "rmse = root_mean_squared_error(targets_class1, y_pred1)\n",
        "print(rmse)"
      ],
      "metadata": {
        "colab": {
          "base_uri": "https://localhost:8080/"
        },
        "id": "q8n-EvBdQ15R",
        "outputId": "918bb88d-21fa-4cdf-a538-5cc9b0a1d444"
      },
      "execution_count": null,
      "outputs": [
        {
          "output_type": "stream",
          "name": "stdout",
          "text": [
            "7.334860459778781\n"
          ]
        }
      ]
    },
    {
      "cell_type": "code",
      "source": [
        "model1 = joblib.load(\"/content/drive/MyDrive/xgb_regressor_model_cat2.joblib\")"
      ],
      "metadata": {
        "id": "ZQuuQiAR5qPj"
      },
      "execution_count": null,
      "outputs": []
    },
    {
      "cell_type": "code",
      "source": [
        "y_pred2 = model1.predict(embeddings_class2)\n",
        "rmse = root_mean_squared_error(targets_class2, y_pred2)\n",
        "print(rmse)"
      ],
      "metadata": {
        "colab": {
          "base_uri": "https://localhost:8080/"
        },
        "id": "OL-D5dTPRNmC",
        "outputId": "de2bde40-daf8-4df3-c9c8-e46c86c87fd3"
      },
      "execution_count": null,
      "outputs": [
        {
          "output_type": "stream",
          "name": "stdout",
          "text": [
            "80.9144010553531\n"
          ]
        }
      ]
    },
    {
      "cell_type": "code",
      "source": [
        "model2 = joblib.load(\"/content/drive/MyDrive/xgb_regressor_model_cat3.joblib\")"
      ],
      "metadata": {
        "id": "v3bMon-nvSTy"
      },
      "execution_count": null,
      "outputs": []
    },
    {
      "cell_type": "code",
      "source": [
        "y_pred3 = model2.predict(embeddings_class3)\n",
        "rmse = root_mean_squared_error(targets_class3, y_pred3)\n",
        "print(rmse)"
      ],
      "metadata": {
        "colab": {
          "base_uri": "https://localhost:8080/"
        },
        "id": "5BUmWEFFRRD9",
        "outputId": "7a47511b-b827-46d8-bca2-c6993986111d"
      },
      "execution_count": null,
      "outputs": [
        {
          "output_type": "stream",
          "name": "stdout",
          "text": [
            "320.56451548905756\n"
          ]
        }
      ]
    },
    {
      "cell_type": "code",
      "source": [
        "model3 = joblib.load(\"/content/drive/MyDrive/xgb_regressor_model_cat4.joblib\")"
      ],
      "metadata": {
        "id": "fzu9c2Yvv5g0"
      },
      "execution_count": null,
      "outputs": []
    },
    {
      "cell_type": "code",
      "source": [
        "y_pred4 = model3.predict(embeddings_class4)\n",
        "rmse = root_mean_squared_error(targets_class4, y_pred4)\n",
        "print(rmse)"
      ],
      "metadata": {
        "colab": {
          "base_uri": "https://localhost:8080/"
        },
        "id": "8xwgdZuZRTsS",
        "outputId": "3bbbca34-c70f-461a-f970-d31105f806eb"
      },
      "execution_count": null,
      "outputs": [
        {
          "output_type": "stream",
          "name": "stdout",
          "text": [
            "447.40757112879623\n"
          ]
        }
      ]
    },
    {
      "cell_type": "code",
      "source": [
        "model4 = joblib.load(\"/content/drive/MyDrive/xgb_regressor_model_cat5.joblib\")"
      ],
      "metadata": {
        "id": "1M2nTjWbxO_y"
      },
      "execution_count": null,
      "outputs": []
    },
    {
      "cell_type": "code",
      "source": [
        "y_pred5 = model4.predict(embeddings_class5)\n",
        "rmse = root_mean_squared_error(targets_class5, y_pred5)\n",
        "print(rmse)"
      ],
      "metadata": {
        "colab": {
          "base_uri": "https://localhost:8080/"
        },
        "id": "1dwGjv_-RWJq",
        "outputId": "9097349a-1f28-4d73-de07-32bac478c187"
      },
      "execution_count": null,
      "outputs": [
        {
          "output_type": "stream",
          "name": "stdout",
          "text": [
            "4954.639142424073\n"
          ]
        }
      ]
    },
    {
      "cell_type": "code",
      "source": [
        "model5 = joblib.load(\"/content/drive/MyDrive/xgb_regressor_model_cat6.joblib\")"
      ],
      "metadata": {
        "id": "iHJBrfzYcOTb"
      },
      "execution_count": null,
      "outputs": []
    },
    {
      "cell_type": "code",
      "source": [
        "y_pred6 = model5.predict(embeddings_class6)\n",
        "rmse = root_mean_squared_error(targets_class6, y_pred6)\n",
        "print(rmse)"
      ],
      "metadata": {
        "colab": {
          "base_uri": "https://localhost:8080/"
        },
        "id": "kraDE5NtRZZB",
        "outputId": "a77d0199-de9e-409b-b29c-e344c83dd087"
      },
      "execution_count": null,
      "outputs": [
        {
          "output_type": "stream",
          "name": "stdout",
          "text": [
            "27078.391134141613\n"
          ]
        }
      ]
    },
    {
      "cell_type": "code",
      "source": [
        "y_true = np.concatenate([targets_class1, targets_class2, targets_class3, targets_class4, targets_class5, targets_class6], axis=0)\n",
        "y_pred = np.concatenate([y_pred1, y_pred2, y_pred3, y_pred4, y_pred5, y_pred6], axis=0)"
      ],
      "metadata": {
        "id": "GovPrGIvRaxq"
      },
      "execution_count": null,
      "outputs": []
    },
    {
      "cell_type": "code",
      "source": [
        "rmse = root_mean_squared_error(y_true, y_pred)\n",
        "print(rmse)"
      ],
      "metadata": {
        "colab": {
          "base_uri": "https://localhost:8080/"
        },
        "id": "5_7u8X4CUNuw",
        "outputId": "6e132cfc-768a-447f-a78a-2b172e4e472b"
      },
      "execution_count": null,
      "outputs": [
        {
          "output_type": "stream",
          "name": "stdout",
          "text": [
            "741.0220025491499\n"
          ]
        }
      ]
    },
    {
      "cell_type": "code",
      "source": [],
      "metadata": {
        "id": "CvZuLN53UTus"
      },
      "execution_count": null,
      "outputs": []
    }
  ]
}